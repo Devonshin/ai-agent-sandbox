{
 "cells": [
  {
   "metadata": {
    "ExecuteTime": {
     "end_time": "2025-09-21T09:39:26.064465Z",
     "start_time": "2025-09-21T09:39:26.051123Z"
    }
   },
   "cell_type": "code",
   "source": [
    "import openai, json\n",
    "from IPython.core.magic_arguments import argument\n",
    "from openai.types.chat import ChatCompletionMessage\n",
    "\n",
    "client = openai.OpenAI()\n",
    "messages = []"
   ],
   "id": "eaaed990e68938c3",
   "outputs": [],
   "execution_count": 51
  },
  {
   "metadata": {
    "ExecuteTime": {
     "end_time": "2025-09-21T09:39:30.569014Z",
     "start_time": "2025-09-21T09:39:30.567073Z"
    }
   },
   "cell_type": "code",
   "source": [
    "def get_weather(location):\n",
    "    return \"33 degrees celcius.\"\n",
    "\n",
    "\n",
    "FUNCTION_MAP = {\n",
    "    'get_weather': get_weather\n",
    "}\n"
   ],
   "id": "4d1aea2fd4189e54",
   "outputs": [],
   "execution_count": 52
  },
  {
   "metadata": {
    "ExecuteTime": {
     "end_time": "2025-09-21T09:39:34.703806Z",
     "start_time": "2025-09-21T09:39:34.701393Z"
    }
   },
   "cell_type": "code",
   "source": [
    "TOOLS = [\n",
    "    {\n",
    "        \"type\": \"function\",\n",
    "        \"function\": {\n",
    "            \"name\": \"get_weather\",\n",
    "            \"description\": \"Get the weather for a given location\",\n",
    "            \"parameters\": {\n",
    "                \"type\": \"object\",\n",
    "                \"properties\": {\n",
    "                    \"location\": {\n",
    "                        \"type\": \"string\",\n",
    "                        \"description\": \"The city and state, e.g. San Francisco, CA\"\n",
    "                    }\n",
    "                },\n",
    "                \"required\": [\"city\"]\n",
    "            }\n",
    "        }\n",
    "    }\n",
    "]"
   ],
   "id": "4b028ad1f96991b9",
   "outputs": [],
   "execution_count": 53
  },
  {
   "metadata": {
    "ExecuteTime": {
     "end_time": "2025-09-21T09:40:15.666065Z",
     "start_time": "2025-09-21T09:40:15.661571Z"
    }
   },
   "cell_type": "code",
   "source": [
    "from openai.types.chat import ChatCompletionMessage\n",
    "def process_ai_response(msg: ChatCompletionMessage):\n",
    "    print(msg)\n",
    "    if msg.tool_calls:\n",
    "        messages.append({\n",
    "            \"role\": \"assistant\",\n",
    "            \"content\": msg.content or \"\",\n",
    "            \"tool_calls\": [{\n",
    "                \"id\": tool_call.id,\n",
    "                \"type\": \"function\",\n",
    "                \"function\": {\n",
    "                    \"name\": tool_call.function.name,\n",
    "                    \"arguments\": tool_call.function.arguments,\n",
    "                }\n",
    "\n",
    "            } for tool_call in msg.tool_calls]\n",
    "        })\n",
    "\n",
    "        for tool_call in msg.tool_calls:\n",
    "            function_name = tool_call.function.name\n",
    "            arguments = tool_call.function.arguments\n",
    "            print(f\"Calling function: {function_name} with {arguments}\")\n",
    "            try:\n",
    "                arguments = json.loads(arguments)\n",
    "            except json.JSONDecodeError:\n",
    "                arguments = {}\n",
    "            function_to_run = FUNCTION_MAP.get(function_name)\n",
    "            result = function_to_run(**arguments)\n",
    "            print(f\"Ran: {function_name} with args: {arguments} for a result of {result}\")\n",
    "            messages.append({\"role\": \"tool\", \"tool_call_id\": tool_call.id, \"name\": function_name, \"content\": result})\n",
    "            call_api()\n",
    "    else:\n",
    "        messages.append({\"role\": \"assistant\", \"content\": msg.content or \"\"})\n",
    "        print(f\"AI: {msg.content}\")\n",
    "    return msg.content\n"
   ],
   "id": "3facbfbb4827f336",
   "outputs": [],
   "execution_count": 56
  },
  {
   "metadata": {
    "ExecuteTime": {
     "end_time": "2025-09-21T09:40:18.816411Z",
     "start_time": "2025-09-21T09:40:18.814849Z"
    }
   },
   "cell_type": "code",
   "source": [
    "def call_api():\n",
    "    response = client.chat.completions.create(\n",
    "        model=\"gpt-4o-mini\",\n",
    "        messages=messages,\n",
    "        tools=TOOLS\n",
    "    )\n",
    "    print(response)\n",
    "    process_ai_response(response.choices[0].message)\n"
   ],
   "id": "83dda1c895bc7f8",
   "outputs": [],
   "execution_count": 57
  },
  {
   "metadata": {
    "ExecuteTime": {
     "end_time": "2025-09-21T11:42:18.089012Z",
     "start_time": "2025-09-21T11:41:19.812485Z"
    }
   },
   "cell_type": "code",
   "source": [
    "while True:\n",
    "    message = input(\"Send a message to the LLM..\")\n",
    "    if message == \"quit\":\n",
    "        break\n",
    "    else:\n",
    "        messages.append({\"role\": \"user\", \"content\": message})\n",
    "        print(f\"User: {message}\")\n",
    "        call_api()"
   ],
   "id": "1bb111e9cb47d2a1",
   "outputs": [
    {
     "name": "stdout",
     "output_type": "stream",
     "text": [
      "User: 난 동우야\n",
      "ChatCompletion(id='chatcmpl-CICjYLZQncGPFjs8ci3sTobduhYZC', choices=[Choice(finish_reason='stop', index=0, logprobs=None, message=ChatCompletionMessage(content='안녕하세요, 동우님! 또 뵙게 되어 반갑습니다. 어떻게 도와드릴까요?', refusal=None, role='assistant', annotations=[], audio=None, function_call=None, tool_calls=None))], created=1758454888, model='gpt-4o-mini-2024-07-18', object='chat.completion', service_tier='default', system_fingerprint='fp_560af6e559', usage=CompletionUsage(completion_tokens=25, prompt_tokens=168, total_tokens=193, completion_tokens_details=CompletionTokensDetails(accepted_prediction_tokens=0, audio_tokens=0, reasoning_tokens=0, rejected_prediction_tokens=0), prompt_tokens_details=PromptTokensDetails(audio_tokens=0, cached_tokens=0)))\n",
      "ChatCompletionMessage(content='안녕하세요, 동우님! 또 뵙게 되어 반갑습니다. 어떻게 도와드릴까요?', refusal=None, role='assistant', annotations=[], audio=None, function_call=None, tool_calls=None)\n",
      "AI: 안녕하세요, 동우님! 또 뵙게 되어 반갑습니다. 어떻게 도와드릴까요?\n",
      "User: 서울의 날씨가 어떄 ?\n",
      "ChatCompletion(id='chatcmpl-CICjxTHRYPkvqdL6zM1njnya7JnLM', choices=[Choice(finish_reason='tool_calls', index=0, logprobs=None, message=ChatCompletionMessage(content=None, refusal=None, role='assistant', annotations=[], audio=None, function_call=None, tool_calls=[ChatCompletionMessageFunctionToolCall(id='call_rMgfjHDE1qijaMKmPFG5t5Lc', function=Function(arguments='{\"location\":\"Seoul, South Korea\"}', name='get_weather'), type='function')]))], created=1758454913, model='gpt-4o-mini-2024-07-18', object='chat.completion', service_tier='default', system_fingerprint='fp_560af6e559', usage=CompletionUsage(completion_tokens=18, prompt_tokens=208, total_tokens=226, completion_tokens_details=CompletionTokensDetails(accepted_prediction_tokens=0, audio_tokens=0, reasoning_tokens=0, rejected_prediction_tokens=0), prompt_tokens_details=PromptTokensDetails(audio_tokens=0, cached_tokens=0)))\n",
      "ChatCompletionMessage(content=None, refusal=None, role='assistant', annotations=[], audio=None, function_call=None, tool_calls=[ChatCompletionMessageFunctionToolCall(id='call_rMgfjHDE1qijaMKmPFG5t5Lc', function=Function(arguments='{\"location\":\"Seoul, South Korea\"}', name='get_weather'), type='function')])\n",
      "Calling function: get_weather with {\"location\":\"Seoul, South Korea\"}\n",
      "Ran: get_weather with args: {'location': 'Seoul, South Korea'} for a result of 33 degrees celcius.\n",
      "ChatCompletion(id='chatcmpl-CICjzM9XyMdB44G3dPtFdetFxEven', choices=[Choice(finish_reason='stop', index=0, logprobs=None, message=ChatCompletionMessage(content='서울의 날씨는 현재 섭씨 33도입니다. 매우 더운 날씨네요! 더 궁금한 것이 있으면 말씀해 주세요.', refusal=None, role='assistant', annotations=[], audio=None, function_call=None, tool_calls=None))], created=1758454915, model='gpt-4o-mini-2024-07-18', object='chat.completion', service_tier='default', system_fingerprint='fp_560af6e559', usage=CompletionUsage(completion_tokens=33, prompt_tokens=239, total_tokens=272, completion_tokens_details=CompletionTokensDetails(accepted_prediction_tokens=0, audio_tokens=0, reasoning_tokens=0, rejected_prediction_tokens=0), prompt_tokens_details=PromptTokensDetails(audio_tokens=0, cached_tokens=0)))\n",
      "ChatCompletionMessage(content='서울의 날씨는 현재 섭씨 33도입니다. 매우 더운 날씨네요! 더 궁금한 것이 있으면 말씀해 주세요.', refusal=None, role='assistant', annotations=[], audio=None, function_call=None, tool_calls=None)\n",
      "AI: 서울의 날씨는 현재 섭씨 33도입니다. 매우 더운 날씨네요! 더 궁금한 것이 있으면 말씀해 주세요.\n",
      "User: 내 이름은 ?\n",
      "ChatCompletion(id='chatcmpl-CICkBRkbLqUocVbxGeju4TJH8giuo', choices=[Choice(finish_reason='stop', index=0, logprobs=None, message=ChatCompletionMessage(content='당신의 이름은 동우입니다! 맞나요?', refusal=None, role='assistant', annotations=[], audio=None, function_call=None, tool_calls=None))], created=1758454927, model='gpt-4o-mini-2024-07-18', object='chat.completion', service_tier='default', system_fingerprint='fp_560af6e559', usage=CompletionUsage(completion_tokens=13, prompt_tokens=283, total_tokens=296, completion_tokens_details=CompletionTokensDetails(accepted_prediction_tokens=0, audio_tokens=0, reasoning_tokens=0, rejected_prediction_tokens=0), prompt_tokens_details=PromptTokensDetails(audio_tokens=0, cached_tokens=0)))\n",
      "ChatCompletionMessage(content='당신의 이름은 동우입니다! 맞나요?', refusal=None, role='assistant', annotations=[], audio=None, function_call=None, tool_calls=None)\n",
      "AI: 당신의 이름은 동우입니다! 맞나요?\n",
      "User: 맞아\n",
      "ChatCompletion(id='chatcmpl-CICkINrPFVEG9zdkMLZ7aPSao1lFx', choices=[Choice(finish_reason='stop', index=0, logprobs=None, message=ChatCompletionMessage(content='좋아요, 동우님! 다른 궁금한 점이나 도움이 필요하신 것이 있으면 언제든지 말씀해 주세요.', refusal=None, role='assistant', annotations=[], audio=None, function_call=None, tool_calls=None))], created=1758454934, model='gpt-4o-mini-2024-07-18', object='chat.completion', service_tier='default', system_fingerprint='fp_560af6e559', usage=CompletionUsage(completion_tokens=28, prompt_tokens=305, total_tokens=333, completion_tokens_details=CompletionTokensDetails(accepted_prediction_tokens=0, audio_tokens=0, reasoning_tokens=0, rejected_prediction_tokens=0), prompt_tokens_details=PromptTokensDetails(audio_tokens=0, cached_tokens=0)))\n",
      "ChatCompletionMessage(content='좋아요, 동우님! 다른 궁금한 점이나 도움이 필요하신 것이 있으면 언제든지 말씀해 주세요.', refusal=None, role='assistant', annotations=[], audio=None, function_call=None, tool_calls=None)\n",
      "AI: 좋아요, 동우님! 다른 궁금한 점이나 도움이 필요하신 것이 있으면 언제든지 말씀해 주세요.\n"
     ]
    }
   ],
   "execution_count": 60
  },
  {
   "metadata": {
    "ExecuteTime": {
     "end_time": "2025-09-21T11:42:18.117465Z",
     "start_time": "2025-09-21T11:42:18.115083Z"
    }
   },
   "cell_type": "code",
   "source": "messages",
   "id": "9875775c1d4f6458",
   "outputs": [
    {
     "data": {
      "text/plain": [
       "[{'role': 'user', 'content': '나는 동우야'},\n",
       " {'role': 'assistant', 'content': '안녕하세요, 동우님! 어떤 도움이 필요하신가요?'},\n",
       " {'role': 'user', 'content': '파리의 날씨가 어때 ?'},\n",
       " {'role': 'assistant',\n",
       "  'content': '',\n",
       "  'tool_calls': [{'id': 'call_3BZOOx1ceJpoDMN7G63XuJKX',\n",
       "    'type': 'function',\n",
       "    'function': {'name': 'get_weather',\n",
       "     'arguments': '{\"location\":\"Paris, France\"}'}}]},\n",
       " {'role': 'tool',\n",
       "  'tool_call_id': 'call_3BZOOx1ceJpoDMN7G63XuJKX',\n",
       "  'name': 'get_weather',\n",
       "  'content': '33 degrees celcius.'},\n",
       " {'role': 'assistant',\n",
       "  'content': '파리의 날씨는 현재 섭씨 33도입니다. 더운 날씨네요! 다른 궁금한 점이 있으신가요?'},\n",
       " {'role': 'user', 'content': '난 동우야'},\n",
       " {'role': 'assistant', 'content': '안녕하세요, 동우님! 또 뵙게 되어 반갑습니다. 어떻게 도와드릴까요?'},\n",
       " {'role': 'user', 'content': '서울의 날씨가 어떄 ?'},\n",
       " {'role': 'assistant',\n",
       "  'content': '',\n",
       "  'tool_calls': [{'id': 'call_rMgfjHDE1qijaMKmPFG5t5Lc',\n",
       "    'type': 'function',\n",
       "    'function': {'name': 'get_weather',\n",
       "     'arguments': '{\"location\":\"Seoul, South Korea\"}'}}]},\n",
       " {'role': 'tool',\n",
       "  'tool_call_id': 'call_rMgfjHDE1qijaMKmPFG5t5Lc',\n",
       "  'name': 'get_weather',\n",
       "  'content': '33 degrees celcius.'},\n",
       " {'role': 'assistant',\n",
       "  'content': '서울의 날씨는 현재 섭씨 33도입니다. 매우 더운 날씨네요! 더 궁금한 것이 있으면 말씀해 주세요.'},\n",
       " {'role': 'user', 'content': '내 이름은 ?'},\n",
       " {'role': 'assistant', 'content': '당신의 이름은 동우입니다! 맞나요?'},\n",
       " {'role': 'user', 'content': '맞아'},\n",
       " {'role': 'assistant',\n",
       "  'content': '좋아요, 동우님! 다른 궁금한 점이나 도움이 필요하신 것이 있으면 언제든지 말씀해 주세요.'}]"
      ]
     },
     "execution_count": 61,
     "metadata": {},
     "output_type": "execute_result"
    }
   ],
   "execution_count": 61
  },
  {
   "metadata": {},
   "cell_type": "code",
   "outputs": [],
   "execution_count": null,
   "source": "",
   "id": "c848ab3dffb97a40"
  },
  {
   "metadata": {
    "ExecuteTime": {
     "end_time": "2025-09-21T09:32:01.594005Z",
     "start_time": "2025-09-21T09:32:01.591838Z"
    }
   },
   "cell_type": "code",
   "source": [
    "\n",
    "\n",
    "a = '{\"city\": \"San Francisco, CA\"}'\n",
    "b = json.loads(a)\n",
    "print(b)\n",
    "b[\"city\"]\n"
   ],
   "id": "c43c7df44ea44b2e",
   "outputs": [
    {
     "name": "stdout",
     "output_type": "stream",
     "text": [
      "{'city': 'San Francisco, CA'}\n"
     ]
    },
    {
     "data": {
      "text/plain": [
       "'San Francisco, CA'"
      ]
     },
     "execution_count": 50,
     "metadata": {},
     "output_type": "execute_result"
    }
   ],
   "execution_count": 50
  }
 ],
 "metadata": {
  "kernelspec": {
   "name": "python3",
   "language": "python",
   "display_name": "Python 3 (ipykernel)"
  }
 },
 "nbformat": 4,
 "nbformat_minor": 5
}
